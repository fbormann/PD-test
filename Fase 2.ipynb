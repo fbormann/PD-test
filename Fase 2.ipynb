{
 "cells": [
  {
   "cell_type": "code",
   "execution_count": 15,
   "metadata": {},
   "outputs": [],
   "source": [
    "import pyspark\n",
    "from pyspark.sql.functions import col, split"
   ]
  },
  {
   "cell_type": "code",
   "execution_count": 2,
   "metadata": {},
   "outputs": [
    {
     "data": {
      "text/html": [
       "\n",
       "            <div>\n",
       "                <p><b>SparkSession - hive</b></p>\n",
       "                \n",
       "        <div>\n",
       "            <p><b>SparkContext</b></p>\n",
       "\n",
       "            <p><a href=\"http://192.168.0.9:4040\">Spark UI</a></p>\n",
       "\n",
       "            <dl>\n",
       "              <dt>Version</dt>\n",
       "                <dd><code>v2.4.0</code></dd>\n",
       "              <dt>Master</dt>\n",
       "                <dd><code>local[*]</code></dd>\n",
       "              <dt>AppName</dt>\n",
       "                <dd><code>PySparkShell</code></dd>\n",
       "            </dl>\n",
       "        </div>\n",
       "        \n",
       "            </div>\n",
       "        "
      ],
      "text/plain": [
       "<pyspark.sql.session.SparkSession at 0x7fe9282bac50>"
      ]
     },
     "execution_count": 2,
     "metadata": {},
     "output_type": "execute_result"
    }
   ],
   "source": [
    "# Dessa forma tenho acesso à Spark UI e posso aprender sobre a DAG criada pelos meus códigos.\n",
    "spark"
   ]
  },
  {
   "cell_type": "code",
   "execution_count": 3,
   "metadata": {},
   "outputs": [],
   "source": [
    "page_view_DF = spark.read.json(\"Datasets - Teste Data Engineer - Passei Direto/BASE B/*.json\")"
   ]
  },
  {
   "cell_type": "code",
   "execution_count": 4,
   "metadata": {},
   "outputs": [],
   "source": [
    "base_path_a = \"Datasets - Teste Data Engineer - Passei Direto/BASE A/{0}.json\"\n",
    "courses_DF = spark.read.json(base_path_a.format(\"courses\"))\n",
    "sessions_DF = spark.read.json(base_path_a.format(\"sessions\"))\n",
    "student_follow_subject_DF = spark.read.json(base_path_a.format(\"student_follow_subject\"))\n",
    "students_DF = spark.read.json(base_path_a.format(\"students\"))\n",
    "subscriptions_DF = spark.read.json(base_path_a.format(\"subscriptions\"))\n",
    "universities_DF = spark.read.json(base_path_a.format(\"universities\"))\n",
    "subjects_DF = spark.read.json(base_path_a.format(\"subjects\"))"
   ]
  },
  {
   "cell_type": "markdown",
   "metadata": {},
   "source": [
    "# Exploratory Analysis"
   ]
  },
  {
   "cell_type": "code",
   "execution_count": 5,
   "metadata": {},
   "outputs": [
    {
     "data": {
      "text/plain": [
       "698942"
      ]
     },
     "execution_count": 5,
     "metadata": {},
     "output_type": "execute_result"
    }
   ],
   "source": [
    "page_view_DF.count()"
   ]
  },
  {
   "cell_type": "code",
   "execution_count": 6,
   "metadata": {
    "scrolled": true
   },
   "outputs": [
    {
     "data": {
      "text/plain": [
       "['Last Accessed Url',\n",
       " 'Page Category',\n",
       " 'Page Category 1',\n",
       " 'Page Category 2',\n",
       " 'Page Category 3',\n",
       " 'Page Name',\n",
       " 'at',\n",
       " 'browser',\n",
       " 'carrier',\n",
       " 'city_name',\n",
       " 'clv_total',\n",
       " 'country',\n",
       " 'custom_1',\n",
       " 'custom_2',\n",
       " 'custom_3',\n",
       " 'custom_4',\n",
       " 'device_new',\n",
       " 'first-accessed-page',\n",
       " 'install_uuid',\n",
       " 'language',\n",
       " 'library_ver',\n",
       " 'marketing_campaign',\n",
       " 'marketing_medium',\n",
       " 'marketing_source',\n",
       " 'model',\n",
       " 'name',\n",
       " 'nth',\n",
       " 'os_ver',\n",
       " 'platform',\n",
       " 'region',\n",
       " 'session_uuid',\n",
       " 'studentId_clientType',\n",
       " 'type',\n",
       " 'user_type',\n",
       " 'uuid']"
      ]
     },
     "execution_count": 6,
     "metadata": {},
     "output_type": "execute_result"
    }
   ],
   "source": [
    "page_view_DF.columns"
   ]
  },
  {
   "cell_type": "code",
   "execution_count": 7,
   "metadata": {
    "scrolled": true
   },
   "outputs": [
    {
     "name": "stdout",
     "output_type": "stream",
     "text": [
      "root\n",
      " |-- Last Accessed Url: string (nullable = true)\n",
      " |-- Page Category: string (nullable = true)\n",
      " |-- Page Category 1: string (nullable = true)\n",
      " |-- Page Category 2: string (nullable = true)\n",
      " |-- Page Category 3: string (nullable = true)\n",
      " |-- Page Name: string (nullable = true)\n",
      " |-- at: string (nullable = true)\n",
      " |-- browser: string (nullable = true)\n",
      " |-- carrier: string (nullable = true)\n",
      " |-- city_name: string (nullable = true)\n",
      " |-- clv_total: long (nullable = true)\n",
      " |-- country: string (nullable = true)\n",
      " |-- custom_1: string (nullable = true)\n",
      " |-- custom_2: string (nullable = true)\n",
      " |-- custom_3: string (nullable = true)\n",
      " |-- custom_4: string (nullable = true)\n",
      " |-- device_new: boolean (nullable = true)\n",
      " |-- first-accessed-page: string (nullable = true)\n",
      " |-- install_uuid: string (nullable = true)\n",
      " |-- language: string (nullable = true)\n",
      " |-- library_ver: string (nullable = true)\n",
      " |-- marketing_campaign: string (nullable = true)\n",
      " |-- marketing_medium: string (nullable = true)\n",
      " |-- marketing_source: string (nullable = true)\n",
      " |-- model: string (nullable = true)\n",
      " |-- name: string (nullable = true)\n",
      " |-- nth: long (nullable = true)\n",
      " |-- os_ver: string (nullable = true)\n",
      " |-- platform: string (nullable = true)\n",
      " |-- region: string (nullable = true)\n",
      " |-- session_uuid: string (nullable = true)\n",
      " |-- studentId_clientType: string (nullable = true)\n",
      " |-- type: string (nullable = true)\n",
      " |-- user_type: string (nullable = true)\n",
      " |-- uuid: string (nullable = true)\n",
      "\n"
     ]
    }
   ],
   "source": [
    "page_view_DF.printSchema()"
   ]
  },
  {
   "cell_type": "code",
   "execution_count": 24,
   "metadata": {
    "scrolled": true
   },
   "outputs": [
    {
     "name": "stdout",
     "output_type": "stream",
     "text": [
      "+-------------------+\n",
      "|at                 |\n",
      "+-------------------+\n",
      "|2017-11-16 02:10:20|\n",
      "|2017-11-16 02:10:26|\n",
      "|2017-11-16 02:10:22|\n",
      "|2017-11-16 02:10:34|\n",
      "|2017-11-16 02:10:53|\n",
      "|2017-11-16 02:10:44|\n",
      "|2017-11-16 02:10:46|\n",
      "|2017-11-16 02:10:53|\n",
      "|2017-11-16 02:10:54|\n",
      "|2017-11-16 02:11:03|\n",
      "+-------------------+\n",
      "only showing top 10 rows\n",
      "\n"
     ]
    }
   ],
   "source": [
    "temp_column = \"at\"\n",
    "page_view_DF.select(temp_column).show(10, False)"
   ]
  },
  {
   "cell_type": "code",
   "execution_count": 9,
   "metadata": {
    "scrolled": false
   },
   "outputs": [
    {
     "name": "stdout",
     "output_type": "stream",
     "text": [
      "+----------------------------------------+\n",
      "|uuid                                    |\n",
      "+----------------------------------------+\n",
      "|1b3ed1360694ceae79f6361ed11b03cf245311c8|\n",
      "|b0110b5beac39737f52678ffdba6c565bb72d8e2|\n",
      "|bea05ad3a2fc2b621bcdb048eafa4e70f5344b17|\n",
      "|a8ee07ca847a3126007ee0f5ceec8d6fa0d92727|\n",
      "|ad6d53dc93ec8d8c30050f4391c9ecdf7da13710|\n",
      "|23886a3fe7cb5853b3aeb7f3690c42ae1b31d7f3|\n",
      "|eacbfbb3d1058820a3679db024155efa9e98230b|\n",
      "|7314139889cd861e86608797030931d504dda2e7|\n",
      "|01d36048a25a15778ccda7ffa384bd755b73ae61|\n",
      "|c70f886f19d653d2e000bba9e855da69acef19be|\n",
      "+----------------------------------------+\n",
      "only showing top 10 rows\n",
      "\n"
     ]
    }
   ],
   "source": [
    "page_view_DF.filter((col(temp_column).isNotNull()) & (col(temp_column) != \"Undefined\")).select(temp_column).show(10, False)"
   ]
  },
  {
   "cell_type": "code",
   "execution_count": 10,
   "metadata": {},
   "outputs": [
    {
     "data": {
      "text/plain": [
       "698942"
      ]
     },
     "execution_count": 10,
     "metadata": {},
     "output_type": "execute_result"
    }
   ],
   "source": [
    "page_view_DF.filter((col(temp_column).isNotNull()) & (col(temp_column) != \"Undefined\")).select(temp_column).count()"
   ]
  },
  {
   "cell_type": "code",
   "execution_count": 11,
   "metadata": {
    "scrolled": true
   },
   "outputs": [
    {
     "name": "stdout",
     "output_type": "stream",
     "text": [
      "+----------------------------------------+-----+\n",
      "|uuid                                    |count|\n",
      "+----------------------------------------+-----+\n",
      "|0d00ea9650de78ea4a7c5c932ea737216bab48a2|1    |\n",
      "|b7c33372c90f2eb001c465f15d62ee4c8d933c09|1    |\n",
      "|3d7e00ab15caed3b3bc05627e3e4df97ba99622b|1    |\n",
      "|9d615283b9e56e339f313f011fe5d69a0fb5cedf|1    |\n",
      "|ee75b52a59a470f707d42c401618922ecfbd46b5|1    |\n",
      "|6853f5ea6d980274a40617952fad1f4263ee8dd1|1    |\n",
      "|54f658e9327eff7afd40497f0349129b791206f2|1    |\n",
      "|73d39846edb6dfa6f31e0fbdf8fd8ab1dc0c1fda|1    |\n",
      "|84311ea372980a946503b6bce23dd924337f8d69|1    |\n",
      "|0c565834f05c69f05d3d8da836c2a41bb912fa72|1    |\n",
      "|3359aa19e533b3972cde6e861c751037380e4bc9|1    |\n",
      "|14dc5f199c44875d7c6b3e6e37e8251f74365d22|1    |\n",
      "|563d8f291b826d57f6b05194f3de0ebef03c413f|1    |\n",
      "|c94b4db5de30aab252fd01518c0f176b500151a6|1    |\n",
      "|325594e87b75f6b4b7cb64a773a3d668d7c55a85|1    |\n",
      "|a158dc4480985acb1f5757fe2ca69e6da33f0d6f|1    |\n",
      "|74f76a1cb90f7a01a22def3d561029846b290b60|1    |\n",
      "|17c8419c5f8f801923a6b51e5b7ce87a86b96b30|1    |\n",
      "|0218eb92b22143717bbd57aa0613915f0692a750|1    |\n",
      "|7cb878b985c5a132a8435320d3c22fd9251a71ff|1    |\n",
      "|9b7c970edf878d36766658776a838fc63c531378|1    |\n",
      "|8d1668b2469a6f36694ddbc37dc8b077e95fc2e9|1    |\n",
      "|0d79aca8695a8048cffbb5948437a9428b3fe1d4|1    |\n",
      "|c39ff3d958e739eba72ee0bd46cd12f5541c7d16|1    |\n",
      "|b0e37ed2319d8c494b5a4501c02e93a511982e2a|1    |\n",
      "|89f292497ce62f88b5fb39b07b99e3303010bfdf|1    |\n",
      "|ae34b584e3bebba1a96f8a523c951cc4794329af|1    |\n",
      "|89c8d94dce77005c9f186be981a50a7ef2725477|1    |\n",
      "|993f84d8268be8c94401b0801b3779ac0af1cdf0|1    |\n",
      "|b5d5c949e3ab79497bbf873b489efd3ca00b88ae|1    |\n",
      "|295c371bfe46be2668327b41db18fb66d9fa12bb|1    |\n",
      "|bc29f6aae7b668a859626ed39661fb48aa54f9d8|1    |\n",
      "|f73956531faaaef96a458c1a9b6ce4107f3f6cf1|1    |\n",
      "|c7aa57d375f678c6f8a69fea9d35222d4da7f9f5|1    |\n",
      "|f23f886a873a358f34fa35e3512dcd8ca3454ec9|1    |\n",
      "|2cf70478fb97bb8a93c1075d8c2a9620abb1f538|1    |\n",
      "|f6da9dffec457126f7d80b6433e859f048c5d9d0|1    |\n",
      "|1be48c16af81c8abe304abc4f699e59c03018500|1    |\n",
      "|72e0fa7d746dcd7b97d53b62a671fb62131967da|1    |\n",
      "|ee8a81b8b1ffbb08bf9add4e8456d25896147633|1    |\n",
      "|cb678aefd01ffaa797099afe0ed42d94565220d3|1    |\n",
      "|5cbe9a46650644f340e3431eb3d50d3dfd8c0bf5|1    |\n",
      "|0894c0f741a03d4d16ae21cbe29999312cf7d135|1    |\n",
      "|61ee3dde9a442d371c41f59e22735d52f48a1aa1|1    |\n",
      "|943b605776e68af1f68167944eeaf886a590eb5e|1    |\n",
      "|1eec1381b4a98ffd89ec8c02e0208884585f103a|1    |\n",
      "|24279a45c7d6f73e1aa790b671be892ceaac78ac|1    |\n",
      "|ac7e6cf968c89cb1a820526bd63894ef146bf19a|1    |\n",
      "|a2eb175c1dde586b0fac52a3dbf989c4deccd74f|1    |\n",
      "|9ac7c17d05acb1ea8163f38e12ed56882b8a33c0|1    |\n",
      "|a30fd311e10265590aa846e72406504505e01952|1    |\n",
      "|5226058bb99e66cd4a9cb1d129d673f1fa1ecee5|1    |\n",
      "|3dd0bdd2bcc2fe43c2c41e36cab71eb9933efff9|1    |\n",
      "|c66f8b0b4aba27d529fd6de8839d5230ce687507|1    |\n",
      "|b187a2240bbb0def14813ab382eba7040ff472f8|1    |\n",
      "|efcc3e37dfad5d6458c3046089aa6f9a448d2461|1    |\n",
      "|8089322b6bd88e8ca2a67292c8fa3f2884ff31f8|1    |\n",
      "|d774451ee05ed2cef853c7901889dc0af880e9c8|1    |\n",
      "|98b6824fb11175d62858b20838928478588cea5f|1    |\n",
      "|bbd3ac416fc9483544b4845f5bfd34b98758ee51|1    |\n",
      "|9782c081112d11b2111e53e5d1725b267cecf571|1    |\n",
      "|e6972538e371e4013f7b6c3baa3c8a51b8c86953|1    |\n",
      "|000fc825f69f7a26fe36f1d7e4fd6be119b7bb00|1    |\n",
      "|ade999ccf4acd1bbc3eedcc155f17b4b045dbd4a|1    |\n",
      "|80336889fcab7e9369331fb661837a50184b3063|1    |\n",
      "|9c1d9abcc653226157fd1be5e0589c63954e23e6|1    |\n",
      "|1630877a8ad7c2f98527c703c5b96c482fa78481|1    |\n",
      "|ba19f89eba81b9f6713548a30a336f5aa3489c04|1    |\n",
      "|02b2ed59a63d692eb7b0ff9937afe7efffe9f37b|1    |\n",
      "|b47ee94c575b9e872d9b36ceaf47e8d60690ed5d|1    |\n",
      "|d091b8ee0e4cb702915f25be1530a6b38806f3e0|1    |\n",
      "|f034f9b751d39d1a6143a00c5b50b69a81df3205|1    |\n",
      "|5c18acafc60b4f7183e90775588421eb866fdfa0|1    |\n",
      "|2860b520f1c032e6a9911514e6eb9ec24fbb487a|1    |\n",
      "|df0ff8cd3a3c26e1a2e4b4bbcc3ef98706dd2eb5|1    |\n",
      "|23117be0c4b7c505fbdbc5749cecfc256a4b708b|1    |\n",
      "|2dd1375555ea40bd26ab69493d1e4717c36b8043|1    |\n",
      "|75a4b6e95eab95b711d33dd126831bf3ce7b6b68|1    |\n",
      "|665bfa9a3f012dbce4d79693e6059d4929a867eb|1    |\n",
      "|6b1ba90786660feedcf169391fd74b790de87540|1    |\n",
      "|f7310eef5ed71c56125acacea64805af680d40c0|1    |\n",
      "|0ad6688278b901efdc6f9a6d98d35f59a24f63b9|1    |\n",
      "|1b003fe5459e61d13924d4376324355e45b7845b|1    |\n",
      "|1ce0598bfc832da544e55c4ae12d2742ab33658a|1    |\n",
      "|961830b11f649fcc48c5357fd86699427c0fcf41|1    |\n",
      "|f4408cc8d6e2e56bcc701f29064a5332fe549300|1    |\n",
      "|02223da58d22501c69982a15bc4128d19f136714|1    |\n",
      "|0072881170cf77d29c39c7681795b799e4222e45|1    |\n",
      "|22d9fe582dcb6c1c57351e2fc629b86d25924fa2|1    |\n",
      "|000bb995acec8340fd1a6a0fa9f960ad15d08ab0|1    |\n",
      "|4ae9e3977c3c26dd47cd30558135a6ab559b5d5a|1    |\n",
      "|ffde0762fda8379b5182a15c4a195ba0b15364e4|1    |\n",
      "|5950c13cb8a3c97ce2b0021b4c77b2ee7da404bc|1    |\n",
      "|aa2df9e0146b31e427c606082a06d44268448b4e|1    |\n",
      "|358fe43f2c00352a42dbac572ddbfd3ce853335a|1    |\n",
      "|60057c2fb116801f652b0671d5d95cc64c76769c|1    |\n",
      "|bd0b8843382a56928242cf668b10e5dba4423011|1    |\n",
      "|b3eef7e99a16ba28817ede30e39e5f6d616231fc|1    |\n",
      "|15ed07e76c250654b80076c0f0a4ab2c25d20245|1    |\n",
      "|74c932551f7d2682cf1b088613cec3e91c168ff9|1    |\n",
      "+----------------------------------------+-----+\n",
      "only showing top 100 rows\n",
      "\n"
     ]
    }
   ],
   "source": [
    "page_view_DF.filter((col(temp_column).isNotNull())).select(temp_column).groupBy(temp_column).count().show(100, False)"
   ]
  },
  {
   "cell_type": "markdown",
   "metadata": {},
   "source": [
    "## Colunas úteis"
   ]
  },
  {
   "cell_type": "markdown",
   "metadata": {},
   "source": [
    "1. Page Category é importante porque revela o perfil de navegação do usuário\n",
    "2. Page Category X são importantes pois são detalhamentos das outros X-1, Mas category 3 tem muito missing data, só 1,7k pontos que não são nulos ou undefined\n",
    "3. Page Name é útil, pois salva só o caminho relativo da URL, existe informação ai\n",
    "4. at é útil pois é um timestamp do evento\n",
    "5. browser é útil porque diz muito sobre as features que devem ser buscadas pelos devs\n",
    "6. custom_1 é o nome da Universidade\n",
    "7. custom_2 é o nome do curso\n",
    "8. custom_4 é a classificação do usuário quanto à frequência, é útil para saber como impactar os \"cold users\", por exemplo.\n",
    "9. first-accessed-page parece importante pelos valores que possue.\n",
    "10. marketing_campaign parece ser interessante\n",
    "11. marketing_medium é interessante também, é a forma como o ad é entregue\n",
    "12. marketing_source parece ser útil também\n",
    "13. model é importante pois fala sobre o SO utilizado pelo usuário\n",
    "14. platform parece um sinônimo para model, parece ser mais útil que model, observar isso e talvez excluir model.\n",
    "15. é o studentId conjugado com ClientType separado por \"@\".\n",
    "16. user_type é importante para estudar os de tipo \"anonymous\".\n",
    "17. \n",
    "\n"
   ]
  },
  {
   "cell_type": "markdown",
   "metadata": {},
   "source": [
    "## Colunas \"inúteis\""
   ]
  },
  {
   "cell_type": "markdown",
   "metadata": {},
   "source": [
    "1. A coluna Last Accessed URL é \"inútil\" pois tem muito missing data, ela pode ser bem útil no futuro mas ainda é pouco populada em comparação com o total.\n",
    "2. city_name tem pouca informação nesse dataset, vou excluir por isso.\n",
    "3. clv_total não tem dados limpos\n",
    "4. não utilizarei country mas seria uma boa forma de particionar os dados no futuro\n",
    "5. device_new eu não consegui inferir a importância de cara, então deixei para cá.\n",
    "6. install_uuid é inútil para um OLAP por hora\n",
    "7. language não é muito útil para agora\n",
    "8. library_ver é inútil pois a coluna só possui um único valor.\n",
    "9. é inútil, pois é o nome do evento que é um único valor, \"Page View\".\n",
    "10. não conseguir inferir o que a coluna \"nth\" significa.\n",
    "11. region tem muito Missing Data.\n",
    "12. a coluna \"type\" é inútil pois possui um único valor.\n",
    "13. uuid é inútil pois poucos possuem mais de 1 valor.\n"
   ]
  },
  {
   "cell_type": "markdown",
   "metadata": {},
   "source": [
    "# Data Cleaning"
   ]
  },
  {
   "cell_type": "code",
   "execution_count": 21,
   "metadata": {},
   "outputs": [],
   "source": [
    "page_view_DF = page_view_DF.withColumn(\"studentId\", split(col(\"studentId_clientType\"), \"@\")[0]).withColumn(\"clientType\", split(col(\"studentId_clientType\"), \"@\")[1])"
   ]
  },
  {
   "cell_type": "markdown",
   "metadata": {},
   "source": [
    "# Processamento"
   ]
  },
  {
   "cell_type": "markdown",
   "metadata": {},
   "source": [
    "Como não tive tempo para pré-processar A em spark também, assumo que a forma de juntar os dois será a chave studentId com o left_join, sendo o lado esquerdo os dados da BASE A.\n",
    "\n",
    "O pipeline ocorria da mesma forma planejada em A, mas adicionaria outra coluna para o particionamento, que seriam a  UniversityId e custom_4, dessa forma seria possível analisar com cuidado cada tipo de usuário e como eles se comportam em cada usuário, uma boa métrica para um modelo futuro ou para a própria empresa seria a taxa de conversão de um \"cold users\" para \"Casual User\" e de \"Casual User\" para \"Core User\" porque essa classificação é sim, mega importante para o negócio. \n",
    "Além do fato que aumenta muito a velocidade de leitura dos dados particionar pelas colunas filtradas mais frequentemente, isso é algo que pode ser modificado se observamos uma mudança de comportamento dos analistas, é claro."
   ]
  },
  {
   "cell_type": "code",
   "execution_count": 25,
   "metadata": {},
   "outputs": [],
   "source": [
    "# Para particionar por dia\n",
    "page_view_DF = page_view_DF.withColumn(\"dt\", page_view_DF[\"at\"].cast('date'))"
   ]
  },
  {
   "cell_type": "code",
   "execution_count": 30,
   "metadata": {},
   "outputs": [],
   "source": [
    "path = \"data/test\"\n",
    "#page_view_DF.write.parquet(path).partitionBy(col(\"dt\"))"
   ]
  },
  {
   "cell_type": "code",
   "execution_count": null,
   "metadata": {},
   "outputs": [],
   "source": []
  }
 ],
 "metadata": {
  "kernelspec": {
   "display_name": "Python 3",
   "language": "python",
   "name": "python3"
  },
  "language_info": {
   "codemirror_mode": {
    "name": "ipython",
    "version": 3
   },
   "file_extension": ".py",
   "mimetype": "text/x-python",
   "name": "python",
   "nbconvert_exporter": "python",
   "pygments_lexer": "ipython3",
   "version": "3.7.0"
  }
 },
 "nbformat": 4,
 "nbformat_minor": 2
}
